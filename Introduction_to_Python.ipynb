{
  "nbformat": 4,
  "nbformat_minor": 0,
  "metadata": {
    "colab": {
      "provenance": [],
      "collapsed_sections": [
        "MX_hB5gw_MD0",
        "g0kTgdDqv4Yh",
        "YS8vmMNC8UPY",
        "hRrC2Se88r8Z",
        "lKMSVAEG9N5d",
        "fPGDmJL394z6",
        "lL1GZyPP-gna"
      ],
      "include_colab_link": true
    },
    "kernelspec": {
      "name": "python3",
      "display_name": "Python 3"
    },
    "language_info": {
      "name": "python"
    }
  },
  "cells": [
    {
      "cell_type": "markdown",
      "metadata": {
        "id": "view-in-github",
        "colab_type": "text"
      },
      "source": [
        "<a href=\"https://colab.research.google.com/github/manu310patel/NPTEL-ML/blob/main/Introduction_to_Python.ipynb\" target=\"_parent\"><img src=\"https://colab.research.google.com/assets/colab-badge.svg\" alt=\"Open In Colab\"/></a>"
      ]
    },
    {
      "cell_type": "markdown",
      "source": [
        "# Playing around colab environment"
      ],
      "metadata": {
        "id": "3DS-o0RzNIaQ"
      }
    },
    {
      "cell_type": "code",
      "source": [
        "!lscpu|grep 'Model name'"
      ],
      "metadata": {
        "id": "KGpHpsCx8IH_",
        "colab": {
          "base_uri": "https://localhost:8080/"
        },
        "outputId": "78f333bb-2b11-466a-e8f7-0860bf08dc48"
      },
      "execution_count": null,
      "outputs": [
        {
          "output_type": "stream",
          "name": "stdout",
          "text": [
            "Model name:                      Intel(R) Xeon(R) CPU @ 2.20GHz\n"
          ]
        }
      ]
    },
    {
      "cell_type": "code",
      "source": [
        "!lscpu|grep 'Core(s) per socket:'"
      ],
      "metadata": {
        "id": "FOsL9wIm8fIu",
        "outputId": "8db39d40-7a46-4202-9d92-9fa115a0e60c",
        "colab": {
          "base_uri": "https://localhost:8080/"
        }
      },
      "execution_count": null,
      "outputs": [
        {
          "output_type": "stream",
          "name": "stdout",
          "text": [
            "Core(s) per socket:              1\n"
          ]
        }
      ]
    },
    {
      "cell_type": "code",
      "source": [
        "!lscpu|grep 'Thread(s) per core'"
      ],
      "metadata": {
        "id": "-yQlGGs284P9",
        "outputId": "4b767d62-4f28-4ab2-be10-c85a35aaa5d3",
        "colab": {
          "base_uri": "https://localhost:8080/"
        }
      },
      "execution_count": null,
      "outputs": [
        {
          "output_type": "stream",
          "name": "stdout",
          "text": [
            "Thread(s) per core:              2\n"
          ]
        }
      ]
    },
    {
      "cell_type": "code",
      "source": [
        "!free -mh"
      ],
      "metadata": {
        "id": "DR_i9KpH3q61",
        "outputId": "dacff8f3-d654-4764-ffbf-844b728b3c14",
        "colab": {
          "base_uri": "https://localhost:8080/"
        }
      },
      "execution_count": null,
      "outputs": [
        {
          "output_type": "stream",
          "name": "stdout",
          "text": [
            "              total        used        free      shared  buff/cache   available\n",
            "Mem:           12Gi       636Mi       7.9Gi       1.0Mi       4.2Gi        11Gi\n",
            "Swap:            0B          0B          0B\n"
          ]
        }
      ]
    },
    {
      "cell_type": "code",
      "source": [
        "!df -h"
      ],
      "metadata": {
        "id": "UcsKLc_wm2kD",
        "outputId": "f0ab336a-4f13-4ce1-d002-aed8d14bcc22",
        "colab": {
          "base_uri": "https://localhost:8080/"
        }
      },
      "execution_count": null,
      "outputs": [
        {
          "output_type": "stream",
          "name": "stdout",
          "text": [
            "Filesystem      Size  Used Avail Use% Mounted on\n",
            "overlay         108G   26G   83G  24% /\n",
            "tmpfs            64M     0   64M   0% /dev\n",
            "shm             5.8G     0  5.8G   0% /dev/shm\n",
            "/dev/root       2.0G  1.1G  841M  58% /usr/sbin/docker-init\n",
            "tmpfs           6.4G   36K  6.4G   1% /var/colab\n",
            "/dev/sda1        70G   44G   26G  63% /etc/hosts\n",
            "tmpfs           6.4G     0  6.4G   0% /proc/acpi\n",
            "tmpfs           6.4G     0  6.4G   0% /proc/scsi\n",
            "tmpfs           6.4G     0  6.4G   0% /sys/firmware\n"
          ]
        }
      ]
    },
    {
      "cell_type": "code",
      "source": [
        "!pwd"
      ],
      "metadata": {
        "id": "C2haNr7Q9OHF",
        "outputId": "5d447d63-1c32-464f-90ed-adeb5de98ac9",
        "colab": {
          "base_uri": "https://localhost:8080/"
        }
      },
      "execution_count": null,
      "outputs": [
        {
          "output_type": "stream",
          "name": "stdout",
          "text": [
            "/content\n"
          ]
        }
      ]
    },
    {
      "cell_type": "code",
      "source": [
        "!ls -l"
      ],
      "metadata": {
        "id": "ziJaXeSn9X4l",
        "outputId": "7576108b-e130-4699-e2dd-805790c2ec28",
        "colab": {
          "base_uri": "https://localhost:8080/"
        }
      },
      "execution_count": null,
      "outputs": [
        {
          "output_type": "stream",
          "name": "stdout",
          "text": [
            "total 4\n",
            "drwxr-xr-x 1 root root 4096 Mar 13 13:33 sample_data\n"
          ]
        }
      ]
    },
    {
      "cell_type": "code",
      "source": [
        "!mkdir my_dir"
      ],
      "metadata": {
        "id": "q1QetpDw9a6V"
      },
      "execution_count": null,
      "outputs": []
    },
    {
      "cell_type": "code",
      "source": [
        "!ls"
      ],
      "metadata": {
        "id": "H2ADwsVP9ff9",
        "outputId": "60f8b343-04a2-4ca7-a855-efde5757fcd8",
        "colab": {
          "base_uri": "https://localhost:8080/"
        }
      },
      "execution_count": null,
      "outputs": [
        {
          "output_type": "stream",
          "name": "stdout",
          "text": [
            "my_dir\tsample_data\n"
          ]
        }
      ]
    },
    {
      "cell_type": "code",
      "source": [
        "%cd my_dir"
      ],
      "metadata": {
        "id": "qxQvhCjy9iDx",
        "outputId": "3ed24877-a340-4eaa-c872-ad14a0877b51",
        "colab": {
          "base_uri": "https://localhost:8080/"
        }
      },
      "execution_count": null,
      "outputs": [
        {
          "output_type": "stream",
          "name": "stdout",
          "text": [
            "/content/my_dir\n"
          ]
        }
      ]
    },
    {
      "cell_type": "code",
      "source": [
        "!pwd"
      ],
      "metadata": {
        "id": "TscJwH8Z9lgO",
        "outputId": "08f7bed8-4dc2-43f1-b2f4-0749b08456a2",
        "colab": {
          "base_uri": "https://localhost:8080/"
        }
      },
      "execution_count": null,
      "outputs": [
        {
          "output_type": "stream",
          "name": "stdout",
          "text": [
            "/content/my_dir\n"
          ]
        }
      ]
    },
    {
      "cell_type": "markdown",
      "source": [
        "Check the python version"
      ],
      "metadata": {
        "id": "wqlaCdbr85Et"
      }
    },
    {
      "cell_type": "code",
      "execution_count": null,
      "metadata": {
        "id": "4Nkx_sR53O0_",
        "outputId": "4b786949-8352-4a24-95ea-07354b4a762c",
        "colab": {
          "base_uri": "https://localhost:8080/"
        }
      },
      "outputs": [
        {
          "output_type": "stream",
          "name": "stdout",
          "text": [
            "Python 3.9.16\n"
          ]
        }
      ],
      "source": [
        "!python --version"
      ]
    },
    {
      "cell_type": "markdown",
      "source": [
        "## Basic Datatypes"
      ],
      "metadata": {
        "id": "ooCdRdEj-GDa"
      }
    },
    {
      "cell_type": "markdown",
      "source": [
        "### Numbers"
      ],
      "metadata": {
        "id": "DXAP4cuJ-JrN"
      }
    },
    {
      "cell_type": "code",
      "source": [
        "x = 1"
      ],
      "metadata": {
        "id": "MJRM_QDa-IeG"
      },
      "execution_count": null,
      "outputs": []
    },
    {
      "cell_type": "code",
      "source": [
        "x"
      ],
      "metadata": {
        "id": "MORps4vn-Yfd",
        "outputId": "981a4bb6-bbb9-4c24-dfb7-8f36f85a2390",
        "colab": {
          "base_uri": "https://localhost:8080/"
        }
      },
      "execution_count": null,
      "outputs": [
        {
          "output_type": "execute_result",
          "data": {
            "text/plain": [
              "1"
            ]
          },
          "metadata": {},
          "execution_count": 14
        }
      ]
    },
    {
      "cell_type": "code",
      "source": [
        "print(x)"
      ],
      "metadata": {
        "id": "ect8R6vG-dhc",
        "outputId": "1e8b46c0-cdd1-46ed-c69f-ff96a7a1fa95",
        "colab": {
          "base_uri": "https://localhost:8080/"
        }
      },
      "execution_count": null,
      "outputs": [
        {
          "output_type": "stream",
          "name": "stdout",
          "text": [
            "1\n"
          ]
        }
      ]
    },
    {
      "cell_type": "code",
      "source": [
        "type(x)"
      ],
      "metadata": {
        "id": "Lte7tX6T-hZV",
        "outputId": "fe1e9362-092f-41fa-e60c-bf3d2c8bc70e",
        "colab": {
          "base_uri": "https://localhost:8080/"
        }
      },
      "execution_count": null,
      "outputs": [
        {
          "output_type": "execute_result",
          "data": {
            "text/plain": [
              "int"
            ]
          },
          "metadata": {},
          "execution_count": 16
        }
      ]
    },
    {
      "cell_type": "code",
      "source": [
        "y = 1.0"
      ],
      "metadata": {
        "id": "tzPWB2vD-kUt"
      },
      "execution_count": null,
      "outputs": []
    },
    {
      "cell_type": "code",
      "source": [
        "type(y)"
      ],
      "metadata": {
        "id": "b-mQlO8B-maE",
        "outputId": "67a56d0c-90e8-4527-955b-e7862b9c9a1e",
        "colab": {
          "base_uri": "https://localhost:8080/"
        }
      },
      "execution_count": null,
      "outputs": [
        {
          "output_type": "execute_result",
          "data": {
            "text/plain": [
              "float"
            ]
          },
          "metadata": {},
          "execution_count": 18
        }
      ]
    },
    {
      "cell_type": "code",
      "source": [
        "y"
      ],
      "metadata": {
        "id": "r5IXhX6eUmX6",
        "outputId": "efd6f864-d60a-45c2-9b32-15cbdcbcf820",
        "colab": {
          "base_uri": "https://localhost:8080/"
        }
      },
      "execution_count": null,
      "outputs": [
        {
          "output_type": "execute_result",
          "data": {
            "text/plain": [
              "1.0"
            ]
          },
          "metadata": {},
          "execution_count": 19
        }
      ]
    },
    {
      "cell_type": "code",
      "source": [
        "print(x + 1)   # Addition\n",
        "print(x - 1)   # Subtraction\n",
        "print(x * 2)   # Multiplication\n",
        "print(x ** 2)  # Exponentiation"
      ],
      "metadata": {
        "id": "k4t8vMjr-v0c",
        "outputId": "5aab58d7-ef2d-4bc8-9f07-6877189607a4",
        "colab": {
          "base_uri": "https://localhost:8080/"
        }
      },
      "execution_count": null,
      "outputs": [
        {
          "output_type": "stream",
          "name": "stdout",
          "text": [
            "2\n",
            "0\n",
            "2\n",
            "1\n"
          ]
        }
      ]
    },
    {
      "cell_type": "code",
      "source": [
        "x += 1 # x = x + 1\n",
        "print(x)\n",
        "x *= 2 # x = x * 2\n",
        "print(x)"
      ],
      "metadata": {
        "id": "DwtBYhQs-ynl",
        "outputId": "629c3d62-ada6-436e-af97-02d782fd2c65",
        "colab": {
          "base_uri": "https://localhost:8080/"
        }
      },
      "execution_count": null,
      "outputs": [
        {
          "output_type": "stream",
          "name": "stdout",
          "text": [
            "2\n",
            "4\n"
          ]
        }
      ]
    },
    {
      "cell_type": "code",
      "source": [
        "x = 5\n",
        "print(x/2)\n",
        "print(x//2)"
      ],
      "metadata": {
        "id": "UIQw4syKVPN6",
        "outputId": "d330f203-7387-43e8-f943-e41186109f6a",
        "colab": {
          "base_uri": "https://localhost:8080/"
        }
      },
      "execution_count": null,
      "outputs": [
        {
          "output_type": "stream",
          "name": "stdout",
          "text": [
            "2.5\n",
            "2\n"
          ]
        }
      ]
    },
    {
      "cell_type": "markdown",
      "source": [
        "### Boolean"
      ],
      "metadata": {
        "id": "MX_hB5gw_MD0"
      }
    },
    {
      "cell_type": "code",
      "source": [
        "x = True"
      ],
      "metadata": {
        "id": "BZlanzs1_LR0"
      },
      "execution_count": null,
      "outputs": []
    },
    {
      "cell_type": "code",
      "source": [
        "x"
      ],
      "metadata": {
        "id": "oj1XaQ-T_YJk",
        "outputId": "72671e03-3bf4-4112-fa64-b55bce8041be",
        "colab": {
          "base_uri": "https://localhost:8080/"
        }
      },
      "execution_count": null,
      "outputs": [
        {
          "output_type": "execute_result",
          "data": {
            "text/plain": [
              "True"
            ]
          },
          "metadata": {},
          "execution_count": 24
        }
      ]
    },
    {
      "cell_type": "code",
      "source": [
        "type(x)"
      ],
      "metadata": {
        "id": "DoDCMb43_a48",
        "outputId": "72c6bdfa-b9fc-4f5f-e575-221876804176",
        "colab": {
          "base_uri": "https://localhost:8080/"
        }
      },
      "execution_count": null,
      "outputs": [
        {
          "output_type": "execute_result",
          "data": {
            "text/plain": [
              "bool"
            ]
          },
          "metadata": {},
          "execution_count": 25
        }
      ]
    },
    {
      "cell_type": "code",
      "source": [
        "y = False"
      ],
      "metadata": {
        "id": "epjF0moN_kun"
      },
      "execution_count": null,
      "outputs": []
    },
    {
      "cell_type": "code",
      "source": [
        "print(x and y) # Logical AND;\n",
        "print(x or y)  # Logical OR;\n",
        "print(not x)   # Logical NOT;\n",
        "print(x != y)  # Logical XOR;"
      ],
      "metadata": {
        "id": "sBerGUSt_hu1",
        "outputId": "0c1a434c-3ebb-41d4-cfba-c3353aa2bbd5",
        "colab": {
          "base_uri": "https://localhost:8080/"
        }
      },
      "execution_count": null,
      "outputs": [
        {
          "output_type": "stream",
          "name": "stdout",
          "text": [
            "False\n",
            "True\n",
            "False\n",
            "True\n"
          ]
        }
      ]
    },
    {
      "cell_type": "markdown",
      "source": [
        "### String"
      ],
      "metadata": {
        "id": "q5xQBugt_zYc"
      }
    },
    {
      "cell_type": "code",
      "source": [
        "x = 'hello world' # \"hello world\""
      ],
      "metadata": {
        "id": "iPDR5cMT_ygJ"
      },
      "execution_count": null,
      "outputs": []
    },
    {
      "cell_type": "code",
      "source": [
        "x"
      ],
      "metadata": {
        "id": "-Z1CjJ86_66E",
        "outputId": "c65caee7-f86f-4f09-b477-034ca7f931ee",
        "colab": {
          "base_uri": "https://localhost:8080/",
          "height": 35
        }
      },
      "execution_count": null,
      "outputs": [
        {
          "output_type": "execute_result",
          "data": {
            "text/plain": [
              "'hello world'"
            ],
            "application/vnd.google.colaboratory.intrinsic+json": {
              "type": "string"
            }
          },
          "metadata": {},
          "execution_count": 29
        }
      ]
    },
    {
      "cell_type": "code",
      "source": [
        "type(x)"
      ],
      "metadata": {
        "id": "jr4biAjDADKm",
        "outputId": "b2be8537-e897-4c90-887b-714b41479fac",
        "colab": {
          "base_uri": "https://localhost:8080/"
        }
      },
      "execution_count": null,
      "outputs": [
        {
          "output_type": "execute_result",
          "data": {
            "text/plain": [
              "str"
            ]
          },
          "metadata": {},
          "execution_count": 30
        }
      ]
    },
    {
      "cell_type": "code",
      "source": [
        "y = \"hello world\""
      ],
      "metadata": {
        "id": "kxWq48Mi_9Jr"
      },
      "execution_count": null,
      "outputs": []
    },
    {
      "cell_type": "code",
      "source": [
        "y"
      ],
      "metadata": {
        "id": "PbGfaHZXAAZc",
        "outputId": "7bd0ecbc-4e05-47d4-9c13-dbbde7e3b38f",
        "colab": {
          "base_uri": "https://localhost:8080/",
          "height": 35
        }
      },
      "execution_count": null,
      "outputs": [
        {
          "output_type": "execute_result",
          "data": {
            "text/plain": [
              "'hello world'"
            ],
            "application/vnd.google.colaboratory.intrinsic+json": {
              "type": "string"
            }
          },
          "metadata": {},
          "execution_count": 32
        }
      ]
    },
    {
      "cell_type": "code",
      "source": [
        "len(y)"
      ],
      "metadata": {
        "id": "W1eSPmU9AHAB",
        "outputId": "3e501111-1942-4f02-c4b0-3c6f38416b2b",
        "colab": {
          "base_uri": "https://localhost:8080/"
        }
      },
      "execution_count": null,
      "outputs": [
        {
          "output_type": "execute_result",
          "data": {
            "text/plain": [
              "11"
            ]
          },
          "metadata": {},
          "execution_count": 33
        }
      ]
    },
    {
      "cell_type": "code",
      "source": [
        "print('He said, \"Hello World!\"')"
      ],
      "metadata": {
        "id": "4O6A-eqIAKSy",
        "outputId": "c2fb2e87-8721-4f44-b4ae-faecc9b1095e",
        "colab": {
          "base_uri": "https://localhost:8080/"
        }
      },
      "execution_count": null,
      "outputs": [
        {
          "output_type": "stream",
          "name": "stdout",
          "text": [
            "He said, \"Hello World!\"\n"
          ]
        }
      ]
    },
    {
      "cell_type": "code",
      "source": [
        "print(\"He said, 'Hello World!'\")"
      ],
      "metadata": {
        "id": "Lvf0m3viA7Gu",
        "outputId": "05180b12-4264-47e8-a8e9-3b8909a327cd",
        "colab": {
          "base_uri": "https://localhost:8080/"
        }
      },
      "execution_count": null,
      "outputs": [
        {
          "output_type": "stream",
          "name": "stdout",
          "text": [
            "He said, 'Hello World!'\n"
          ]
        }
      ]
    },
    {
      "cell_type": "code",
      "source": [
        "s = 'Hello ' + 'world!'"
      ],
      "metadata": {
        "id": "kslj30OfDpES"
      },
      "execution_count": null,
      "outputs": []
    },
    {
      "cell_type": "code",
      "source": [
        "s"
      ],
      "metadata": {
        "id": "t9FZWhDrDuvh",
        "outputId": "47d1fc00-c3b3-4e66-931c-45af67845da2",
        "colab": {
          "base_uri": "https://localhost:8080/",
          "height": 35
        }
      },
      "execution_count": null,
      "outputs": [
        {
          "output_type": "execute_result",
          "data": {
            "text/plain": [
              "'Hello world!'"
            ],
            "application/vnd.google.colaboratory.intrinsic+json": {
              "type": "string"
            }
          },
          "metadata": {},
          "execution_count": 37
        }
      ]
    },
    {
      "cell_type": "markdown",
      "source": [
        "For more on python data types, refer to [this doc](https://www.w3schools.com/python/python_datatypes.asp). Some additional data types are defined in numpy\n",
        "library ([link](https://numpy.org/doc/stable/user/basics.types.html))."
      ],
      "metadata": {
        "id": "VITIVqBwNwdb"
      }
    },
    {
      "cell_type": "markdown",
      "source": [
        "## Containers"
      ],
      "metadata": {
        "id": "aMX3Mec0D-AF"
      }
    },
    {
      "cell_type": "markdown",
      "source": [
        "### List"
      ],
      "metadata": {
        "id": "4ulxaObkELEh"
      }
    },
    {
      "cell_type": "code",
      "source": [
        "a = [1, 2, 3, 4, 5]"
      ],
      "metadata": {
        "id": "6Uj48Mt3EJsq"
      },
      "execution_count": null,
      "outputs": []
    },
    {
      "cell_type": "code",
      "source": [
        "a"
      ],
      "metadata": {
        "id": "j1kYHnT_EPK-",
        "outputId": "52333622-031c-4da5-fe57-5d5e240f3571",
        "colab": {
          "base_uri": "https://localhost:8080/"
        }
      },
      "execution_count": null,
      "outputs": [
        {
          "output_type": "execute_result",
          "data": {
            "text/plain": [
              "[1, 2, 3, 4, 5]"
            ]
          },
          "metadata": {},
          "execution_count": 39
        }
      ]
    },
    {
      "cell_type": "code",
      "source": [
        "type(a)"
      ],
      "metadata": {
        "id": "EP077B2XEQky",
        "outputId": "0d03c9ad-3d1d-4b1f-a06f-e7f1d6966ca9",
        "colab": {
          "base_uri": "https://localhost:8080/"
        }
      },
      "execution_count": null,
      "outputs": [
        {
          "output_type": "execute_result",
          "data": {
            "text/plain": [
              "list"
            ]
          },
          "metadata": {},
          "execution_count": 40
        }
      ]
    },
    {
      "cell_type": "code",
      "source": [
        "len(a)"
      ],
      "metadata": {
        "id": "9dPbjvdkEY0X",
        "outputId": "a9420f7e-dd45-4ca5-d8c7-c1cd4d262702",
        "colab": {
          "base_uri": "https://localhost:8080/"
        }
      },
      "execution_count": null,
      "outputs": [
        {
          "output_type": "execute_result",
          "data": {
            "text/plain": [
              "5"
            ]
          },
          "metadata": {},
          "execution_count": 41
        }
      ]
    },
    {
      "cell_type": "code",
      "source": [
        "a[0]"
      ],
      "metadata": {
        "id": "M7XIaMyfES3x",
        "outputId": "e47e94fc-5f23-49b8-913a-fd8d8d7a716f",
        "colab": {
          "base_uri": "https://localhost:8080/"
        }
      },
      "execution_count": null,
      "outputs": [
        {
          "output_type": "execute_result",
          "data": {
            "text/plain": [
              "1"
            ]
          },
          "metadata": {},
          "execution_count": 42
        }
      ]
    },
    {
      "cell_type": "code",
      "source": [
        "a[1]"
      ],
      "metadata": {
        "id": "ErlySO8SEU-p",
        "outputId": "6b8519fb-2d53-458f-d81e-053d71bd1ef0",
        "colab": {
          "base_uri": "https://localhost:8080/"
        }
      },
      "execution_count": null,
      "outputs": [
        {
          "output_type": "execute_result",
          "data": {
            "text/plain": [
              "2"
            ]
          },
          "metadata": {},
          "execution_count": 43
        }
      ]
    },
    {
      "cell_type": "code",
      "source": [
        "a[-1] # equivalent to a[len(a)+i]"
      ],
      "metadata": {
        "id": "ntPKCBUoEWWK",
        "outputId": "504bbf05-b526-428a-b1e4-33611cf4159b",
        "colab": {
          "base_uri": "https://localhost:8080/"
        }
      },
      "execution_count": null,
      "outputs": [
        {
          "output_type": "execute_result",
          "data": {
            "text/plain": [
              "5"
            ]
          },
          "metadata": {},
          "execution_count": 44
        }
      ]
    },
    {
      "cell_type": "code",
      "source": [
        "a[-2]"
      ],
      "metadata": {
        "id": "0U_xwsAZEg5J",
        "outputId": "4a24174b-3c96-4d1e-e7a0-521cc73de9bd",
        "colab": {
          "base_uri": "https://localhost:8080/"
        }
      },
      "execution_count": null,
      "outputs": [
        {
          "output_type": "execute_result",
          "data": {
            "text/plain": [
              "4"
            ]
          },
          "metadata": {},
          "execution_count": 45
        }
      ]
    },
    {
      "cell_type": "markdown",
      "source": [
        "List Slicing"
      ],
      "metadata": {
        "id": "Ksbg082VabzZ"
      }
    },
    {
      "cell_type": "code",
      "source": [
        "a[0:3] # [a[0], a[1], a[2]]"
      ],
      "metadata": {
        "id": "i07RpDg-Ezwq"
      },
      "execution_count": null,
      "outputs": []
    },
    {
      "cell_type": "code",
      "source": [
        "a[1:2] # [a[1]]"
      ],
      "metadata": {
        "id": "_x2e0WaJEjQr"
      },
      "execution_count": null,
      "outputs": []
    },
    {
      "cell_type": "code",
      "source": [
        "a[:2] # [a[0], a[1]]"
      ],
      "metadata": {
        "id": "P4buAITME5gR"
      },
      "execution_count": null,
      "outputs": []
    },
    {
      "cell_type": "code",
      "source": [
        "a[0:-1] # [a[0], a[1], a[2], a[3]]"
      ],
      "metadata": {
        "id": "FAiKHw5AFCR7"
      },
      "execution_count": null,
      "outputs": []
    },
    {
      "cell_type": "code",
      "source": [
        "a[1:] # [a[1], a[2], a[3], a[4]]"
      ],
      "metadata": {
        "id": "kuBfcHOVFGyL"
      },
      "execution_count": null,
      "outputs": []
    },
    {
      "cell_type": "markdown",
      "source": [
        "You can create list of heterogeneous items"
      ],
      "metadata": {
        "id": "G5F2q-rYZqRO"
      }
    },
    {
      "cell_type": "code",
      "source": [
        "a = [1, 2.0, 'three']"
      ],
      "metadata": {
        "id": "g0QxL8c8FQV1"
      },
      "execution_count": null,
      "outputs": []
    },
    {
      "cell_type": "code",
      "source": [
        "a"
      ],
      "metadata": {
        "id": "ECHPOueNFWqN"
      },
      "execution_count": null,
      "outputs": []
    },
    {
      "cell_type": "markdown",
      "source": [
        "A list can contain another list as an element"
      ],
      "metadata": {
        "id": "grqiEejuZ_Ak"
      }
    },
    {
      "cell_type": "code",
      "source": [
        "a = [1, 2, [3, 4]]"
      ],
      "metadata": {
        "id": "GNjjBHqeFY_q"
      },
      "execution_count": null,
      "outputs": []
    },
    {
      "cell_type": "code",
      "source": [
        "a[2]"
      ],
      "metadata": {
        "id": "m3WL6m41FccB"
      },
      "execution_count": null,
      "outputs": []
    },
    {
      "cell_type": "markdown",
      "source": [
        "Some operations on List"
      ],
      "metadata": {
        "id": "tAgRkfuRatI9"
      }
    },
    {
      "cell_type": "code",
      "source": [
        "[1, 2] + [3, 4]"
      ],
      "metadata": {
        "id": "eKma8Ja3Fpu5"
      },
      "execution_count": null,
      "outputs": []
    },
    {
      "cell_type": "code",
      "source": [
        "sum([0, 1, 2, 3])"
      ],
      "metadata": {
        "id": "VzT8b3ysAw3C"
      },
      "execution_count": null,
      "outputs": []
    },
    {
      "cell_type": "code",
      "source": [
        "l = [0, 1, 2, 3]\n",
        "l.reverse()\n",
        "print(l)"
      ],
      "metadata": {
        "id": "Zv7NUm--BBI1"
      },
      "execution_count": null,
      "outputs": []
    },
    {
      "cell_type": "code",
      "source": [
        "l = [3, 1, 7, 2, 5]\n",
        "l.sort()\n",
        "print(l)"
      ],
      "metadata": {
        "id": "flqE6WeNBw8U"
      },
      "execution_count": null,
      "outputs": []
    },
    {
      "cell_type": "markdown",
      "source": [
        "Also look for python <em>tuples</em> and how it is different from python <em>list</em>."
      ],
      "metadata": {
        "id": "uz_2ngkJvaEE"
      }
    },
    {
      "cell_type": "markdown",
      "source": [
        "### Dictionaries"
      ],
      "metadata": {
        "id": "g0kTgdDqv4Yh"
      }
    },
    {
      "cell_type": "code",
      "source": [
        "d1 = {'key1': 'value1', 'key2': 2, 'key3': 3.0}"
      ],
      "metadata": {
        "id": "d4-XARGRv9cK"
      },
      "execution_count": 3,
      "outputs": []
    },
    {
      "cell_type": "code",
      "source": [
        "print(d1['key1'])\n",
        "print(d1['key2'])\n",
        "print(d1['key3'])"
      ],
      "metadata": {
        "id": "_vd_OwK4wdnK"
      },
      "execution_count": null,
      "outputs": []
    },
    {
      "cell_type": "code",
      "source": [
        "d2 = {}\n",
        "d2[1] = 'v1'\n",
        "d2[2] = 'v2'\n",
        "d2[3] = 'v3'"
      ],
      "metadata": {
        "id": "NRJEXy6cwmvA"
      },
      "execution_count": null,
      "outputs": []
    },
    {
      "cell_type": "code",
      "source": [
        "print(d2[1])\n",
        "print(d2[2])\n",
        "print(d2[3])"
      ],
      "metadata": {
        "id": "uLJ2XAYVw8Gf"
      },
      "execution_count": null,
      "outputs": []
    },
    {
      "cell_type": "code",
      "source": [
        "print(list(d2.keys()))"
      ],
      "metadata": {
        "id": "wL9_I5NYxN0P"
      },
      "execution_count": null,
      "outputs": []
    },
    {
      "cell_type": "code",
      "source": [
        "print(list(d2.values()))"
      ],
      "metadata": {
        "id": "xB0DGjEnxVSv"
      },
      "execution_count": null,
      "outputs": []
    },
    {
      "cell_type": "code",
      "source": [
        "for k, v in d2.items():\n",
        "  print('key: %s\\tvalue: %s'%(k, v))"
      ],
      "metadata": {
        "id": "TBiQIRk7xi4i"
      },
      "execution_count": null,
      "outputs": []
    },
    {
      "cell_type": "code",
      "source": [
        "nums = [0, 1, 2, 3, 4]\n",
        "num_to_square = {x: x ** 2 for x in nums}\n",
        "print(num_to_square)"
      ],
      "metadata": {
        "id": "v_6tL4RqyB5o",
        "colab": {
          "base_uri": "https://localhost:8080/"
        },
        "outputId": "cbfe5ac0-97c6-45f9-8e5c-7a5a66aabf9f"
      },
      "execution_count": 4,
      "outputs": [
        {
          "output_type": "stream",
          "name": "stdout",
          "text": [
            "{0: 0, 1: 1, 2: 4, 3: 9, 4: 16}\n"
          ]
        }
      ]
    },
    {
      "cell_type": "markdown",
      "source": [
        "Also look into python <em>sets</em>."
      ],
      "metadata": {
        "id": "7DRN1RnKyO0F"
      }
    },
    {
      "cell_type": "markdown",
      "source": [
        "## Loop"
      ],
      "metadata": {
        "id": "oBurJnsDGBX1"
      }
    },
    {
      "cell_type": "code",
      "source": [
        "for i in [0, 1, 2, 3, 4]:\n",
        "  print(i)"
      ],
      "metadata": {
        "id": "wrvUjNEPGEgl"
      },
      "execution_count": null,
      "outputs": []
    },
    {
      "cell_type": "code",
      "source": [
        "nums = [0, 1, 2, 3, 4]\n",
        "squares = []\n",
        "for i in nums:\n",
        "  squares.append(i ** 2)"
      ],
      "metadata": {
        "id": "DhJ3vgi8GRVB"
      },
      "execution_count": null,
      "outputs": []
    },
    {
      "cell_type": "code",
      "source": [
        "squares"
      ],
      "metadata": {
        "id": "2fSs1X8NGmmI"
      },
      "execution_count": null,
      "outputs": []
    },
    {
      "cell_type": "code",
      "source": [
        "squares_new = [e ** 2 for e in nums]"
      ],
      "metadata": {
        "id": "1OSeVgYzGo6_"
      },
      "execution_count": null,
      "outputs": []
    },
    {
      "cell_type": "code",
      "source": [
        "squares_new"
      ],
      "metadata": {
        "id": "_JchLsyIGzVJ"
      },
      "execution_count": null,
      "outputs": []
    },
    {
      "cell_type": "code",
      "source": [
        "even_squares = [e ** 2 for e in nums if e % 2 == 0]"
      ],
      "metadata": {
        "id": "BtdOFC7aG5aq"
      },
      "execution_count": null,
      "outputs": []
    },
    {
      "cell_type": "code",
      "source": [
        "even_squares"
      ],
      "metadata": {
        "id": "tIG9ZAnSHN67"
      },
      "execution_count": null,
      "outputs": []
    },
    {
      "cell_type": "markdown",
      "source": [
        "You can also use [while loop](https://www.w3schools.com/python/python_while_loops.asp) in python."
      ],
      "metadata": {
        "id": "w4xq451jRRUP"
      }
    },
    {
      "cell_type": "markdown",
      "source": [
        "## Functions"
      ],
      "metadata": {
        "id": "R8uiVh7hxtmI"
      }
    },
    {
      "cell_type": "code",
      "source": [
        "def fabs(num):\n",
        "  if num >= 0:\n",
        "    return num\n",
        "  else:\n",
        "    return -num"
      ],
      "metadata": {
        "id": "zDfPhMmJ74G8"
      },
      "execution_count": null,
      "outputs": []
    },
    {
      "cell_type": "code",
      "source": [
        "print(fabs(5))\n",
        "print(fabs(-5))"
      ],
      "metadata": {
        "id": "vDEigr5t8BMT"
      },
      "execution_count": null,
      "outputs": []
    },
    {
      "cell_type": "markdown",
      "source": [
        "You can also define python function within another function"
      ],
      "metadata": {
        "id": "YH1PWG31yBRg"
      }
    },
    {
      "cell_type": "code",
      "source": [
        "def square_sum(nums):\n",
        "  def square(x):\n",
        "    return x ** 2\n",
        "  return sum([square(e) for e in nums])"
      ],
      "metadata": {
        "id": "E_93oAzEyYo_"
      },
      "execution_count": null,
      "outputs": []
    },
    {
      "cell_type": "code",
      "source": [
        "print(square_sum([0, 1, 2, 3, 4]))"
      ],
      "metadata": {
        "id": "QJTeDMu3zGnj"
      },
      "execution_count": null,
      "outputs": []
    },
    {
      "cell_type": "markdown",
      "source": [
        "You can refer to [this doc](https://www.w3schools.com/python/python_functions.asp) to learn more about python <em>function</em>. Also, look for python <em>lambda</em> functions([link](https://www.w3schools.com/python/python_lambda.asp))."
      ],
      "metadata": {
        "id": "vndB848A9rPO"
      }
    },
    {
      "cell_type": "markdown",
      "source": [
        "Python also support object-oriented programming. You can look for python <em>classes</em>."
      ],
      "metadata": {
        "id": "hW3LYDIzznCY"
      }
    },
    {
      "cell_type": "markdown",
      "source": [
        "# Python modules"
      ],
      "metadata": {
        "id": "DJNs2nTdzwtI"
      }
    },
    {
      "cell_type": "code",
      "source": [
        "import math"
      ],
      "metadata": {
        "id": "MJCXIT_oz7fU"
      },
      "execution_count": null,
      "outputs": []
    },
    {
      "cell_type": "code",
      "source": [
        "math.ceil(0.5)"
      ],
      "metadata": {
        "id": "oDLnT15i0LEf"
      },
      "execution_count": null,
      "outputs": []
    },
    {
      "cell_type": "code",
      "source": [
        "math.floor(0.5)"
      ],
      "metadata": {
        "id": "IjsEbpJO0TiV"
      },
      "execution_count": null,
      "outputs": []
    },
    {
      "cell_type": "code",
      "source": [
        "math.fabs(-0.5)"
      ],
      "metadata": {
        "id": "z9Ljn73E0Xwu"
      },
      "execution_count": null,
      "outputs": []
    },
    {
      "cell_type": "code",
      "source": [
        "import math as m"
      ],
      "metadata": {
        "id": "UXXzNZB70eIW"
      },
      "execution_count": null,
      "outputs": []
    },
    {
      "cell_type": "code",
      "source": [
        "m.fabs(-0.5)"
      ],
      "metadata": {
        "id": "lzeAtP7C0hFd"
      },
      "execution_count": null,
      "outputs": []
    },
    {
      "cell_type": "markdown",
      "source": [
        "Sometimes python modules are group together in different packages. Some packages may not be installed in your system by default. If a python package is not already installed in your system, it need to be installed before using it. Please refer to [this tutorial](https://packaging.python.org/en/latest/tutorials/installing-packages/) to know how to install python packages."
      ],
      "metadata": {
        "id": "ywgkKlDk1Qjt"
      }
    },
    {
      "cell_type": "markdown",
      "source": [
        "You can use the following command to list all the python packages installed in Colab"
      ],
      "metadata": {
        "id": "dITUpANQR6uU"
      }
    },
    {
      "cell_type": "code",
      "source": [
        "!pip list -v "
      ],
      "metadata": {
        "id": "Zs2NVmlWR1Mb"
      },
      "execution_count": null,
      "outputs": []
    },
    {
      "cell_type": "markdown",
      "source": [
        "# Numpy"
      ],
      "metadata": {
        "id": "uf6_c8Wt3N7K"
      }
    },
    {
      "cell_type": "markdown",
      "source": [
        "Numpy is a python library which provides access to high perfomance arrays. For the detailed functionalites of Numpy, please refer to [this tutorial](https://www.w3schools.com/python/numpy/default.asp)"
      ],
      "metadata": {
        "id": "h1Ukm47d4Kb3"
      }
    },
    {
      "cell_type": "code",
      "source": [
        "import numpy as np"
      ],
      "metadata": {
        "id": "o3ncV-qY5mcj"
      },
      "execution_count": null,
      "outputs": []
    },
    {
      "cell_type": "code",
      "source": [
        "a = np.array([0, 1, 2, 3])"
      ],
      "metadata": {
        "id": "KHXMVGa45N6L"
      },
      "execution_count": null,
      "outputs": []
    },
    {
      "cell_type": "code",
      "source": [
        "print(a)"
      ],
      "metadata": {
        "id": "9Qn7NtQi5x-e"
      },
      "execution_count": null,
      "outputs": []
    },
    {
      "cell_type": "code",
      "source": [
        "type(a)"
      ],
      "metadata": {
        "id": "P8VzrH5k5pmp"
      },
      "execution_count": null,
      "outputs": []
    },
    {
      "cell_type": "code",
      "source": [
        "a.shape"
      ],
      "metadata": {
        "id": "WKzKNGPM5rYc"
      },
      "execution_count": null,
      "outputs": []
    },
    {
      "cell_type": "code",
      "source": [
        "a.dtype"
      ],
      "metadata": {
        "id": "nOSrIHdA50Hr"
      },
      "execution_count": null,
      "outputs": []
    },
    {
      "cell_type": "code",
      "source": [
        "a = np.array([0, 1, 2, 3], dtype=np.float32)"
      ],
      "metadata": {
        "id": "TlwEeXu654ek"
      },
      "execution_count": null,
      "outputs": []
    },
    {
      "cell_type": "code",
      "source": [
        "print(a)"
      ],
      "metadata": {
        "id": "L3C0jDzX596e"
      },
      "execution_count": null,
      "outputs": []
    },
    {
      "cell_type": "code",
      "source": [
        "a.dtype"
      ],
      "metadata": {
        "id": "WJBhbqa55_6W"
      },
      "execution_count": null,
      "outputs": []
    },
    {
      "cell_type": "code",
      "source": [
        "a[1]"
      ],
      "metadata": {
        "id": "0ZojECdV6u6f"
      },
      "execution_count": null,
      "outputs": []
    },
    {
      "cell_type": "code",
      "source": [
        "a[-2]"
      ],
      "metadata": {
        "id": "9CfIy-MF6zK6"
      },
      "execution_count": null,
      "outputs": []
    },
    {
      "cell_type": "code",
      "source": [
        "# Creating 2-D array\n",
        "# [[1, 2, 3],\n",
        "#  [4, 5, 6]]\n",
        "a = np.array([[1, 2, 3], [4, 5, 6]])"
      ],
      "metadata": {
        "id": "auTaXj5O6E_u"
      },
      "execution_count": null,
      "outputs": []
    },
    {
      "cell_type": "code",
      "source": [
        "print(a)"
      ],
      "metadata": {
        "id": "5tVeJuSf6LQ8"
      },
      "execution_count": null,
      "outputs": []
    },
    {
      "cell_type": "code",
      "source": [
        "a.shape"
      ],
      "metadata": {
        "id": "QPbV7ODn6odE"
      },
      "execution_count": null,
      "outputs": []
    },
    {
      "cell_type": "code",
      "source": [
        "a[1, 2]"
      ],
      "metadata": {
        "id": "Mw_oTaL865TD"
      },
      "execution_count": null,
      "outputs": []
    },
    {
      "cell_type": "code",
      "source": [
        "a[0, -1]"
      ],
      "metadata": {
        "id": "O-lyPshY7BAy"
      },
      "execution_count": null,
      "outputs": []
    },
    {
      "cell_type": "code",
      "source": [
        "a[1]"
      ],
      "metadata": {
        "id": "6PWvLJjl68Uz"
      },
      "execution_count": null,
      "outputs": []
    },
    {
      "cell_type": "markdown",
      "source": [
        "### Creating some special array"
      ],
      "metadata": {
        "id": "2TrV3Sz-7K_D"
      }
    },
    {
      "cell_type": "code",
      "source": [
        "z = np.zeros((3, 4)) # Create an array of all zeros"
      ],
      "metadata": {
        "id": "gX3b8Cvk7Oi3"
      },
      "execution_count": null,
      "outputs": []
    },
    {
      "cell_type": "code",
      "source": [
        "z"
      ],
      "metadata": {
        "id": "AqteNjIR7TUz"
      },
      "execution_count": null,
      "outputs": []
    },
    {
      "cell_type": "code",
      "source": [
        "z.dtype"
      ],
      "metadata": {
        "id": "6bnpaxg47Ynr"
      },
      "execution_count": null,
      "outputs": []
    },
    {
      "cell_type": "code",
      "source": [
        "o = np.ones((2, 3), dtype=np.int16) # Create an array of all ones"
      ],
      "metadata": {
        "id": "VKDN1bzK7cTw"
      },
      "execution_count": null,
      "outputs": []
    },
    {
      "cell_type": "code",
      "source": [
        "o"
      ],
      "metadata": {
        "id": "jvwHJWYM7jed"
      },
      "execution_count": null,
      "outputs": []
    },
    {
      "cell_type": "code",
      "source": [
        "c = np.full((2,2), 7) # Create a constant array\n",
        "print(c)"
      ],
      "metadata": {
        "id": "f5fuXTJh781h"
      },
      "execution_count": null,
      "outputs": []
    },
    {
      "cell_type": "code",
      "source": [
        "d = np.eye(2)        # Create a 2x2 identity matrix\n",
        "print(d)"
      ],
      "metadata": {
        "id": "CIOeKmD08BDO"
      },
      "execution_count": null,
      "outputs": []
    },
    {
      "cell_type": "code",
      "source": [
        "e = np.random.random((2,2)) # Create an array filled with random values\n",
        "print(e)"
      ],
      "metadata": {
        "id": "c5tFqWDg8Dql"
      },
      "execution_count": null,
      "outputs": []
    },
    {
      "cell_type": "markdown",
      "source": [
        "### Array slicing"
      ],
      "metadata": {
        "id": "YS8vmMNC8UPY"
      }
    },
    {
      "cell_type": "code",
      "source": [
        "# Create the following rank 2 array with shape (3, 4)\n",
        "# [[ 1  2  3  4]\n",
        "#  [ 5  6  7  8]\n",
        "#  [ 9 10 11 12]]\n",
        "a = np.array([[1,2,3,4], [5,6,7,8], [9,10,11,12]])\n",
        "\n",
        "# Use slicing to pull out the subarray consisting of the first 2 rows\n",
        "# and columns 1 and 2; b is the following array of shape (2, 2):\n",
        "# [[2 3]\n",
        "#  [6 7]]\n",
        "b = a[:2, 1:3]\n",
        "print(b)"
      ],
      "metadata": {
        "id": "GowVaNyB8X0I"
      },
      "execution_count": null,
      "outputs": []
    },
    {
      "cell_type": "markdown",
      "source": [
        "### Row-wise and column-wise accessing"
      ],
      "metadata": {
        "id": "hRrC2Se88r8Z"
      }
    },
    {
      "cell_type": "code",
      "source": [
        "row_r1 = a[1, :]    # Rank 1 view of the second row of a  \n",
        "row_r2 = a[1:2, :]  # Rank 2 view of the second row of a\n",
        "row_r3 = a[[1], :]  # Rank 2 view of the second row of a\n",
        "print(row_r1, row_r1.shape)\n",
        "print(row_r2, row_r2.shape)\n",
        "print(row_r3, row_r3.shape)"
      ],
      "metadata": {
        "id": "ncNjudlS8yKN"
      },
      "execution_count": null,
      "outputs": []
    },
    {
      "cell_type": "code",
      "source": [
        "# We can make the same distinction when accessing columns of an array:\n",
        "col_r1 = a[:, 1]\n",
        "col_r2 = a[:, 1:2]\n",
        "print(col_r1, col_r1.shape)\n",
        "print()\n",
        "print(col_r2, col_r2.shape)"
      ],
      "metadata": {
        "id": "x4Q6-Xz582Gy"
      },
      "execution_count": null,
      "outputs": []
    },
    {
      "cell_type": "markdown",
      "source": [
        "### Array math"
      ],
      "metadata": {
        "id": "lKMSVAEG9N5d"
      }
    },
    {
      "cell_type": "code",
      "source": [
        "x = np.array([[1,2],[3,4]], dtype=np.float64)\n",
        "y = np.array([[5,6],[7,8]], dtype=np.float64)\n",
        "\n",
        "# Elementwise sum; both produce the array\n",
        "print(x + y)\n",
        "print(np.add(x, y))"
      ],
      "metadata": {
        "id": "166riLdH9P7b"
      },
      "execution_count": null,
      "outputs": []
    },
    {
      "cell_type": "code",
      "source": [
        "# Elementwise difference; both produce the array\n",
        "print(x - y)\n",
        "print(np.subtract(x, y))"
      ],
      "metadata": {
        "id": "b14uQwrV9SPT"
      },
      "execution_count": null,
      "outputs": []
    },
    {
      "cell_type": "code",
      "source": [
        "# Elementwise product; both produce the array\n",
        "print(x * y)\n",
        "print(np.multiply(x, y))"
      ],
      "metadata": {
        "id": "1Xz6ACKU9V4C"
      },
      "execution_count": null,
      "outputs": []
    },
    {
      "cell_type": "code",
      "source": [
        "# Elementwise division; both produce the array\n",
        "# [[ 0.2         0.33333333]\n",
        "#  [ 0.42857143  0.5       ]]\n",
        "print(x / y)\n",
        "print(np.divide(x, y))"
      ],
      "metadata": {
        "id": "mndLDPRs9YpS"
      },
      "execution_count": null,
      "outputs": []
    },
    {
      "cell_type": "code",
      "source": [
        "# Elementwise square root; produces the array\n",
        "# [[ 1.          1.41421356]\n",
        "#  [ 1.73205081  2.        ]]\n",
        "print(np.sqrt(x))"
      ],
      "metadata": {
        "id": "5WQzKFss9bkb"
      },
      "execution_count": null,
      "outputs": []
    },
    {
      "cell_type": "markdown",
      "source": [
        "### vector-vector inner product, matrix-vector multiplication and matrix-matrix multiplication"
      ],
      "metadata": {
        "id": "fPGDmJL394z6"
      }
    },
    {
      "cell_type": "code",
      "source": [
        "x = np.array([[1,2],[3,4]])\n",
        "y = np.array([[5,6],[7,8]])\n",
        "\n",
        "v = np.array([9,10])\n",
        "w = np.array([11, 12])\n",
        "\n",
        "# Inner product of vectors; both produce 219\n",
        "print(v.dot(w))\n",
        "print(np.dot(v, w))"
      ],
      "metadata": {
        "id": "RvfrYDPO-Qdz"
      },
      "execution_count": null,
      "outputs": []
    },
    {
      "cell_type": "code",
      "source": [
        "print(v @ w)"
      ],
      "metadata": {
        "id": "iQJR9ysv-Tsp"
      },
      "execution_count": null,
      "outputs": []
    },
    {
      "cell_type": "code",
      "source": [
        "# Matrix / vector product; both produce the rank 1 array [29 67]\n",
        "print(x.dot(v))\n",
        "print(np.dot(x, v))\n",
        "print(x @ v)"
      ],
      "metadata": {
        "id": "dozQXyVo-XOk"
      },
      "execution_count": null,
      "outputs": []
    },
    {
      "cell_type": "code",
      "source": [
        "# Matrix / matrix product; both produce the rank 2 array\n",
        "# [[19 22]\n",
        "#  [43 50]]\n",
        "print(x.dot(y))\n",
        "print(np.dot(x, y))\n",
        "print(x @ y)"
      ],
      "metadata": {
        "id": "-1taQowS-Zhy"
      },
      "execution_count": null,
      "outputs": []
    },
    {
      "cell_type": "markdown",
      "source": [
        "### Some utility functons for arrays"
      ],
      "metadata": {
        "id": "lL1GZyPP-gna"
      }
    },
    {
      "cell_type": "code",
      "source": [
        "x = np.array([[1,2],[3,4]])\n",
        "\n",
        "print(np.sum(x))  # Compute sum of all elements; prints \"10\"\n",
        "print(np.sum(x, axis=0))  # Compute sum of each column; prints \"[4 6]\"\n",
        "print(np.sum(x, axis=1))  # Compute sum of each row; prints \"[3 7]\""
      ],
      "metadata": {
        "id": "jMDKixQI-lZb"
      },
      "execution_count": null,
      "outputs": []
    },
    {
      "cell_type": "code",
      "source": [
        "print(x)\n",
        "print(\"transpose\\n\", x.T)"
      ],
      "metadata": {
        "id": "y0KDnn1C-pXR"
      },
      "execution_count": null,
      "outputs": []
    },
    {
      "cell_type": "code",
      "source": [
        "v = np.array([[1,2,3]])\n",
        "print(v)\n",
        "print(\"transpose\\n\", v.T)"
      ],
      "metadata": {
        "id": "56tMy6cq-s1B"
      },
      "execution_count": null,
      "outputs": []
    },
    {
      "cell_type": "markdown",
      "source": [
        "You can refer to [this tutorial](https://colab.research.google.com/github/cs231n/cs231n.github.io/blob/master/python-colab.ipynb) for a more detailed introduction to python with google colab."
      ],
      "metadata": {
        "id": "7IsSCavLPz-v"
      }
    }
  ]
}